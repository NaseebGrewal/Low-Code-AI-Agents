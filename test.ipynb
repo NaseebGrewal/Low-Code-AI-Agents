{
 "cells": [
  {
   "cell_type": "code",
   "execution_count": 1,
   "metadata": {},
   "outputs": [
    {
     "name": "stdout",
     "output_type": "stream",
     "text": [
      "Hello, World!\n"
     ]
    }
   ],
   "source": [
    "print(\"Hello, World!\")"
   ]
  },
  {
   "cell_type": "code",
   "execution_count": null,
   "metadata": {},
   "outputs": [
    {
     "name": "stdout",
     "output_type": "stream",
     "text": [
      "Collecting requests\n",
      "  Using cached requests-2.32.3-py3-none-any.whl.metadata (4.6 kB)\n",
      "Collecting pillow\n",
      "  Using cached pillow-11.1.0-cp313-cp313-macosx_11_0_arm64.whl.metadata (9.1 kB)\n",
      "Collecting charset-normalizer<4,>=2 (from requests)\n",
      "  Using cached charset_normalizer-3.4.1-cp313-cp313-macosx_10_13_universal2.whl.metadata (35 kB)\n",
      "Collecting idna<4,>=2.5 (from requests)\n",
      "  Using cached idna-3.10-py3-none-any.whl.metadata (10 kB)\n",
      "Collecting urllib3<3,>=1.21.1 (from requests)\n",
      "  Using cached urllib3-2.3.0-py3-none-any.whl.metadata (6.5 kB)\n",
      "Collecting certifi>=2017.4.17 (from requests)\n",
      "  Using cached certifi-2025.1.31-py3-none-any.whl.metadata (2.5 kB)\n",
      "Using cached requests-2.32.3-py3-none-any.whl (64 kB)\n",
      "Using cached pillow-11.1.0-cp313-cp313-macosx_11_0_arm64.whl (3.1 MB)\n",
      "Using cached certifi-2025.1.31-py3-none-any.whl (166 kB)\n",
      "Using cached charset_normalizer-3.4.1-cp313-cp313-macosx_10_13_universal2.whl (195 kB)\n",
      "Using cached idna-3.10-py3-none-any.whl (70 kB)\n",
      "Using cached urllib3-2.3.0-py3-none-any.whl (128 kB)\n",
      "Installing collected packages: urllib3, pillow, idna, charset-normalizer, certifi, requests\n",
      "Successfully installed certifi-2025.1.31 charset-normalizer-3.4.1 idna-3.10 pillow-11.1.0 requests-2.32.3 urllib3-2.3.0\n",
      "\n",
      "\u001b[1m[\u001b[0m\u001b[34;49mnotice\u001b[0m\u001b[1;39;49m]\u001b[0m\u001b[39;49m A new release of pip is available: \u001b[0m\u001b[31;49m25.0\u001b[0m\u001b[39;49m -> \u001b[0m\u001b[32;49m25.0.1\u001b[0m\n",
      "\u001b[1m[\u001b[0m\u001b[34;49mnotice\u001b[0m\u001b[1;39;49m]\u001b[0m\u001b[39;49m To update, run: \u001b[0m\u001b[32;49mpip install --upgrade pip\u001b[0m\n",
      "Note: you may need to restart the kernel to use updated packages.\n"
     ]
    }
   ],
   "source": [
    "# %pip install requests pillow\n"
   ]
  },
  {
   "cell_type": "code",
   "execution_count": null,
   "metadata": {},
   "outputs": [
    {
     "name": "stdout",
     "output_type": "stream",
     "text": [
      "Collecting python-dotenv\n",
      "  Downloading python_dotenv-1.1.0-py3-none-any.whl.metadata (24 kB)\n",
      "Downloading python_dotenv-1.1.0-py3-none-any.whl (20 kB)\n",
      "Installing collected packages: python-dotenv\n",
      "Successfully installed python-dotenv-1.1.0\n",
      "\n",
      "\u001b[1m[\u001b[0m\u001b[34;49mnotice\u001b[0m\u001b[1;39;49m]\u001b[0m\u001b[39;49m A new release of pip is available: \u001b[0m\u001b[31;49m25.0\u001b[0m\u001b[39;49m -> \u001b[0m\u001b[32;49m25.0.1\u001b[0m\n",
      "\u001b[1m[\u001b[0m\u001b[34;49mnotice\u001b[0m\u001b[1;39;49m]\u001b[0m\u001b[39;49m To update, run: \u001b[0m\u001b[32;49mpip install --upgrade pip\u001b[0m\n",
      "Note: you may need to restart the kernel to use updated packages.\n"
     ]
    }
   ],
   "source": [
    "# %pip install python-dotenv"
   ]
  },
  {
   "cell_type": "code",
   "execution_count": 8,
   "metadata": {},
   "outputs": [
    {
     "name": "stdout",
     "output_type": "stream",
     "text": [
      "<Response [200]>\n"
     ]
    }
   ],
   "source": [
    "import requests\n",
    "from io import BytesIO\n",
    "from PIL import Image\n",
    "import os\n",
    "from dotenv import load_dotenv\n",
    "load_dotenv()\n",
    "# Replace with your actual API key\n",
    "API_KEY = os.environ.get(\"API_KEY\")\n",
    "\n",
    "# POST request details\n",
    "post_url = \"https://api.bfl.ml/v1/flux-pro-1.1\"\n",
    "headers = {\n",
    "    \"Content-Type\": \"application/json\",\n",
    "    \"x-key\": API_KEY\n",
    "}\n",
    "payload = {\n",
    "    \"prompt\": \"A serene, enchanted forest bathed in moonlight, where luminous fairies dance around ancient, gnarled trees\"\n",
    "}\n",
    "\n",
    "# Send the POST request to generate the image\n",
    "post_response = requests.post(post_url, headers=headers, json=payload)\n",
    "print(post_response)\n"
   ]
  },
  {
   "cell_type": "code",
   "execution_count": 9,
   "metadata": {},
   "outputs": [
    {
     "name": "stdout",
     "output_type": "stream",
     "text": [
      "Image request submitted. ID: bd2f7b34-9f50-4149-b7e2-a72adf37b357\n"
     ]
    },
    {
     "data": {
      "text/plain": [
       "'bd2f7b34-9f50-4149-b7e2-a72adf37b357'"
      ]
     },
     "execution_count": 9,
     "metadata": {},
     "output_type": "execute_result"
    }
   ],
   "source": [
    "if post_response.status_code == 200:\n",
    "    post_data = post_response.json()\n",
    "    # Assume the API returns an 'id' in the JSON response\n",
    "    image_id = post_data.get('id')\n",
    "    if not image_id:\n",
    "        print(\"No image ID found in the response.\")\n",
    "        exit(1)\n",
    "    print(f\"Image request submitted. ID: {image_id}\")\n",
    "else:\n",
    "    print(f\"Error in POST request: {post_response.status_code}\\n{post_response.text}\")\n",
    "    exit(1)\n",
    "\n",
    "image_id\n"
   ]
  },
  {
   "cell_type": "code",
   "execution_count": 11,
   "metadata": {},
   "outputs": [
    {
     "data": {
      "text/plain": [
       "<Response [200]>"
      ]
     },
     "execution_count": 11,
     "metadata": {},
     "output_type": "execute_result"
    }
   ],
   "source": [
    "# Construct the GET URL using the returned image ID\n",
    "get_url = f\"https://api.bfl.ml/v1/get_result?id={image_id}\"\n",
    "\n",
    "# Send the GET request to retrieve the image\n",
    "get_response = requests.get(get_url, headers=headers)\n",
    "get_response"
   ]
  },
  {
   "cell_type": "code",
   "execution_count": 12,
   "metadata": {},
   "outputs": [
    {
     "data": {
      "text/plain": [
       "b'{\"id\":\"bd2f7b34-9f50-4149-b7e2-a72adf37b357\",\"status\":\"Ready\",\"result\":{\"sample\":\"https://delivery-eu1.bfl.ai/results/e19390ef472e4eacba385b1572c5ed0f/sample.jpeg?se=2025-03-26T17%3A48%3A47Z&sp=r&sv=2024-11-04&sr=b&rsct=image/jpeg&sig=iPseLGZ/5Z5nVwmUX28pTqFzUlyzx1b4%2B2Z600922Tk%3D\",\"prompt\":\"A serene, enchanted forest bathed in moonlight, where luminous fairies dance around ancient, gnarled trees\",\"seed\":2597540021,\"start_time\":1743010726.620909,\"end_time\":1743010728.276615,\"duration\":1.6557059288024902},\"progress\":null,\"details\":null}'"
      ]
     },
     "execution_count": 12,
     "metadata": {},
     "output_type": "execute_result"
    }
   ],
   "source": [
    "get_response.content"
   ]
  },
  {
   "cell_type": "code",
   "execution_count": null,
   "metadata": {},
   "outputs": [
    {
     "name": "stdout",
     "output_type": "stream",
     "text": [
      "Image URL retrieved: https://delivery-eu1.bfl.ai/results/e19390ef472e4eacba385b1572c5ed0f/sample.jpeg?se=2025-03-26T17%3A48%3A47Z&sp=r&sv=2024-11-04&sr=b&rsct=image/jpeg&sig=iPseLGZ/5Z5nVwmUX28pTqFzUlyzx1b4%2B2Z600922Tk%3D\n"
     ]
    }
   ],
   "source": [
    "# Send the GET request to retrieve the image result JSON\n",
    "result_response = requests.get(get_url, headers=headers)\n",
    "if result_response.status_code == 200:\n",
    "    result_data = result_response.json()\n",
    "    # Extract the URL of the image from the 'sample' field inside 'result'\n",
    "    image_url = result_data.get(\"result\", {}).get(\"sample\")\n",
    "    if not image_url:\n",
    "        print(\"Image URL not found in the response.\")\n",
    "        exit(1)\n",
    "    print(f\"Image URL retrieved: {image_url}\")\n",
    "else:\n",
    "    print(f\"Error in GET request: {result_response.status_code}\\n{result_response.text}\")\n",
    "    exit(1)"
   ]
  },
  {
   "cell_type": "code",
   "execution_count": 14,
   "metadata": {},
   "outputs": [
    {
     "name": "stdout",
     "output_type": "stream",
     "text": [
      "Image downloaded and saved as downloaded_image.png\n"
     ]
    }
   ],
   "source": [
    "# Now, make a GET request to the actual image URL to download the image binary data\n",
    "image_response = requests.get(image_url)\n",
    "if image_response.status_code == 200:\n",
    "    image_bytes = image_response.content\n",
    "\n",
    "    # Save the image to disk\n",
    "    output_filename = \"downloaded_image.png\"\n",
    "    with open(output_filename, \"wb\") as img_file:\n",
    "        img_file.write(image_bytes)\n",
    "    print(f\"Image downloaded and saved as {output_filename}\")\n",
    "\n",
    "    # Optionally, display the image using Pillow\n",
    "    try:\n",
    "        image = Image.open(BytesIO(image_bytes))\n",
    "        image.show()\n",
    "    except Exception as e:\n",
    "        print(\"Unable to display the image:\", e)\n",
    "else:\n",
    "    print(f\"Error retrieving the image: {image_response.status_code}\\n{image_response.text}\")"
   ]
  },
  {
   "cell_type": "code",
   "execution_count": 42,
   "metadata": {},
   "outputs": [
    {
     "name": "stdout",
     "output_type": "stream",
     "text": [
      "Prompt Title: Embodiment of Time\n",
      "Prompt Description: A surreal figure dissolving into a cascade of clock fragments and swirling cosmic dust, personifying time as both fluid and eternal.\n",
      "\n",
      "Prompt Title: Visions of Chaos\n",
      "Prompt Description: A dynamic, abstract entity composed of intertwined, explosive colors and shapes that embody the essence of chaos, swirling with raw energy and movement.\n",
      "\n",
      "Prompt Title: Harmony Incarnate\n",
      "Prompt Description: A graceful figure radiating balance, where opposing elements—fire and water, light and shadow—merge seamlessly into a visually arresting portrait of unity.\n",
      "\n",
      "Prompt Title: Whispers of Memory\n",
      "Prompt Description: A delicate, ephemeral form shrouded in translucent veils of past moments, with scattered fragments of faces and places fading into the background of a dreamlike setting.\n",
      "\n",
      "Prompt Title: The Weight of Sorrow\n",
      "Prompt Description: An abstract, melancholic figure made of dark, flowing ink and shadowy tendrils, exuding a deep, resonant aura of timeless grief and reflection.\n",
      "\n",
      "Prompt Title: Euphoria Embodied\n",
      "Prompt Description: A burst of radiant color and form, an abstract personification of joy that explodes in a spectrum of vibrant hues and dynamic, swirling patterns.\n",
      "\n",
      "Prompt Title: The Dance of Fate\n",
      "Prompt Description: A mesmerizing figure whose form constantly shifts and evolves, interlacing threads of fate into a visual tapestry that hints at the mysterious interplay of destiny.\n",
      "\n",
      "Prompt Title: Essence of Innovation\n",
      "Prompt Description: A futuristic, abstract persona forged from interlocking digital motifs and fluid, neon lines, symbolizing the relentless pursuit of progress and creativity.\n",
      "\n",
      "Prompt Title: Spirit of Rebellion\n",
      "Prompt Description: A fierce, dynamic entity bursting with electric energy, merging fragmented, rebellious symbols with an aura of unapologetic defiance and transformation.\n",
      "\n",
      "Prompt Title: Eternal Enigma\n",
      "Prompt Description: A mysterious, androgynous figure surrounded by swirling mist and abstract symbols, capturing the ineffable nature of the unknown and the infinite possibilities of existence.\n",
      "\n"
     ]
    }
   ],
   "source": [
    "prompt_description = ['A surreal figure dissolving into a cascade of clock fragments and swirling cosmic dust, personifying time as both fluid and eternal.',\n",
    " 'A dynamic, abstract entity composed of intertwined, explosive colors and shapes that embody the essence of chaos, swirling with raw energy and movement.',\n",
    " 'A graceful figure radiating balance, where opposing elements—fire and water, light and shadow—merge seamlessly into a visually arresting portrait of unity.',\n",
    " 'A delicate, ephemeral form shrouded in translucent veils of past moments, with scattered fragments of faces and places fading into the background of a dreamlike setting.',\n",
    " 'An abstract, melancholic figure made of dark, flowing ink and shadowy tendrils, exuding a deep, resonant aura of timeless grief and reflection.',\n",
    " 'A burst of radiant color and form, an abstract personification of joy that explodes in a spectrum of vibrant hues and dynamic, swirling patterns.',\n",
    " 'A mesmerizing figure whose form constantly shifts and evolves, interlacing threads of fate into a visual tapestry that hints at the mysterious interplay of destiny.',\n",
    " 'A futuristic, abstract persona forged from interlocking digital motifs and fluid, neon lines, symbolizing the relentless pursuit of progress and creativity.',\n",
    " 'A fierce, dynamic entity bursting with electric energy, merging fragmented, rebellious symbols with an aura of unapologetic defiance and transformation.',\n",
    " 'A mysterious, androgynous figure surrounded by swirling mist and abstract symbols, capturing the ineffable nature of the unknown and the infinite possibilities of existence.']\n",
    "\n",
    "prompt_titles= ['Embodiment of Time',\n",
    " 'Visions of Chaos',\n",
    " 'Harmony Incarnate',\n",
    " 'Whispers of Memory',\n",
    " 'The Weight of Sorrow',\n",
    " 'Euphoria Embodied',\n",
    " 'The Dance of Fate',\n",
    " 'Essence of Innovation',\n",
    " 'Spirit of Rebellion',\n",
    " 'Eternal Enigma']\n",
    "\n",
    "length = len(prompt_description)\n",
    "for i in range(length):\n",
    "    print(f\"Prompt Title: {prompt_titles[i]}\")\n",
    "    print(f\"Prompt Description: {prompt_description[i]}\")\n",
    "    print(\"\")"
   ]
  },
  {
   "cell_type": "code",
   "execution_count": 43,
   "metadata": {},
   "outputs": [
    {
     "name": "stdout",
     "output_type": "stream",
     "text": [
      "Prompt Title: Embodiment of Time\n",
      "Prompt Description: A surreal figure dissolving into a cascade of clock fragments and swirling cosmic dust, personifying time as both fluid and eternal.\n",
      "\n",
      "Image request submitted. ID: a9769b59-d52d-4fb0-a978-87e11e26e739\n",
      "Waiting for 5 seconds to allow image generation...\n",
      "Image URL retrieved: https://delivery-eu1.bfl.ai/results/696eddd29f9a4964903ed929ffdde4cb/sample.jpeg?se=2025-03-26T21%3A49%3A02Z&sp=r&sv=2024-11-04&sr=b&rsct=image/jpeg&sig=xk7%2BEWDnlDfdJJXo8fcS9ql/2To6dTIw9ITbf69aWbc%3D\n",
      "Image downloaded and saved as Images/Embodiment of Time.jpeg\n",
      "\n",
      "----------------------------------------------------\n",
      "\n",
      "Prompt Title: Visions of Chaos\n",
      "Prompt Description: A dynamic, abstract entity composed of intertwined, explosive colors and shapes that embody the essence of chaos, swirling with raw energy and movement.\n",
      "\n",
      "Image request submitted. ID: c14c1cb9-68b6-4beb-8d06-4e32c5677907\n",
      "Waiting for 5 seconds to allow image generation...\n",
      "Image URL retrieved: https://delivery-eu1.bfl.ai/results/ad624f6538204a19a095f3ddc1cc6a6a/sample.jpeg?se=2025-03-26T21%3A49%3A08Z&sp=r&sv=2024-11-04&sr=b&rsct=image/jpeg&sig=GyY%2B%2B8go1UxcpGw2IX4ywS1q9CdlxCf3Vrv9Rqk1JIs%3D\n",
      "Image downloaded and saved as Images/Visions of Chaos.jpeg\n",
      "\n",
      "----------------------------------------------------\n",
      "\n",
      "Prompt Title: Harmony Incarnate\n",
      "Prompt Description: A graceful figure radiating balance, where opposing elements—fire and water, light and shadow—merge seamlessly into a visually arresting portrait of unity.\n",
      "\n",
      "Image request submitted. ID: a246cabc-1510-4463-9c6f-858a68bc86b5\n",
      "Waiting for 5 seconds to allow image generation...\n",
      "Image URL retrieved: https://delivery-eu1.bfl.ai/results/7693ed6212c74599aa43819a6d1409cb/sample.jpeg?se=2025-03-26T21%3A49%3A14Z&sp=r&sv=2024-11-04&sr=b&rsct=image/jpeg&sig=9t3XIAhtpHzV7WlHzh%2BdKymo8Ro/LVdl9f8IfCT0irg%3D\n",
      "Image downloaded and saved as Images/Harmony Incarnate.jpeg\n",
      "\n",
      "----------------------------------------------------\n",
      "\n",
      "Prompt Title: Whispers of Memory\n",
      "Prompt Description: A delicate, ephemeral form shrouded in translucent veils of past moments, with scattered fragments of faces and places fading into the background of a dreamlike setting.\n",
      "\n",
      "Image request submitted. ID: 1e62541d-ea95-4d15-940e-d253f4f54b0c\n",
      "Waiting for 5 seconds to allow image generation...\n",
      "Image URL retrieved: https://delivery-eu1.bfl.ai/results/536627e7f3c24154bf5b42689c00b85e/sample.jpeg?se=2025-03-26T21%3A49%3A21Z&sp=r&sv=2024-11-04&sr=b&rsct=image/jpeg&sig=gOTPHyJewnwxxRPmakhkqasiRogjX4m5rrAfKbwvFzo%3D\n",
      "Image downloaded and saved as Images/Whispers of Memory.jpeg\n",
      "\n",
      "----------------------------------------------------\n",
      "\n",
      "Prompt Title: The Weight of Sorrow\n",
      "Prompt Description: An abstract, melancholic figure made of dark, flowing ink and shadowy tendrils, exuding a deep, resonant aura of timeless grief and reflection.\n",
      "\n",
      "Image request submitted. ID: c36f3621-ea40-4e0b-9819-5af171b48c73\n",
      "Waiting for 5 seconds to allow image generation...\n",
      "Image URL retrieved: https://delivery-eu1.bfl.ai/results/31e0bb110b794590978bc31312fc850a/sample.jpeg?se=2025-03-26T21%3A49%3A27Z&sp=r&sv=2024-11-04&sr=b&rsct=image/jpeg&sig=%2BMNj3dXsoDcmjQCgOHMuPZTsW6b8XPJb4%2BWFfsNc/VE%3D\n",
      "Image downloaded and saved as Images/The Weight of Sorrow.jpeg\n",
      "\n",
      "----------------------------------------------------\n",
      "\n",
      "Prompt Title: Euphoria Embodied\n",
      "Prompt Description: A burst of radiant color and form, an abstract personification of joy that explodes in a spectrum of vibrant hues and dynamic, swirling patterns.\n",
      "\n",
      "Image request submitted. ID: 820edebd-3ac7-4b28-84e9-0ebb44210a22\n",
      "Waiting for 5 seconds to allow image generation...\n",
      "Image URL retrieved: https://delivery-eu1.bfl.ai/results/0b15e969636142469a1c25401b7c0b03/sample.jpeg?se=2025-03-26T21%3A49%3A33Z&sp=r&sv=2024-11-04&sr=b&rsct=image/jpeg&sig=zccYugucMQG1KB0gELxouAz4gchRZ2LvQdig%2BHu80no%3D\n",
      "Image downloaded and saved as Images/Euphoria Embodied.jpeg\n",
      "\n",
      "----------------------------------------------------\n",
      "\n",
      "Prompt Title: The Dance of Fate\n",
      "Prompt Description: A mesmerizing figure whose form constantly shifts and evolves, interlacing threads of fate into a visual tapestry that hints at the mysterious interplay of destiny.\n",
      "\n",
      "Image request submitted. ID: 336b96c3-69e2-43fe-8818-e2a3d1ea70cb\n",
      "Waiting for 5 seconds to allow image generation...\n",
      "Image URL retrieved: https://delivery-eu1.bfl.ai/results/20a744abadb24feea24300c79fceae32/sample.jpeg?se=2025-03-26T21%3A49%3A38Z&sp=r&sv=2024-11-04&sr=b&rsct=image/jpeg&sig=B7ZMMxVf%2B8BN12a83%2BRLDwciUtj0cPYbQDLe7RY0dz0%3D\n",
      "Image downloaded and saved as Images/The Dance of Fate.jpeg\n",
      "\n",
      "----------------------------------------------------\n",
      "\n",
      "Prompt Title: Essence of Innovation\n",
      "Prompt Description: A futuristic, abstract persona forged from interlocking digital motifs and fluid, neon lines, symbolizing the relentless pursuit of progress and creativity.\n",
      "\n",
      "Image request submitted. ID: 5555cb90-30b5-4321-bb61-3f0dee360cda\n",
      "Waiting for 5 seconds to allow image generation...\n",
      "Image URL retrieved: https://delivery-eu1.bfl.ai/results/67e7c1b954c44fa68674e2fb4cea1272/sample.jpeg?se=2025-03-26T21%3A49%3A44Z&sp=r&sv=2024-11-04&sr=b&rsct=image/jpeg&sig=UQn72Y6UJQlKlQNFkU3cAokANym6w1fRQPe5rrtVsvo%3D\n",
      "Image downloaded and saved as Images/Essence of Innovation.jpeg\n",
      "\n",
      "----------------------------------------------------\n",
      "\n",
      "Prompt Title: Spirit of Rebellion\n",
      "Prompt Description: A fierce, dynamic entity bursting with electric energy, merging fragmented, rebellious symbols with an aura of unapologetic defiance and transformation.\n",
      "\n",
      "Image request submitted. ID: d61e7a6f-8ba8-45ae-a1f2-dfd718d12e2b\n",
      "Waiting for 5 seconds to allow image generation...\n",
      "Image URL retrieved: https://delivery-eu1.bfl.ai/results/1bdeb955013146828fe852e5156bdaf7/sample.jpeg?se=2025-03-26T21%3A49%3A50Z&sp=r&sv=2024-11-04&sr=b&rsct=image/jpeg&sig=GlBCt/CXjv3rXyBh66WIgJ2rEPmigHrOFsbmxWZDTUs%3D\n",
      "Image downloaded and saved as Images/Spirit of Rebellion.jpeg\n",
      "\n",
      "----------------------------------------------------\n",
      "\n",
      "Prompt Title: Eternal Enigma\n",
      "Prompt Description: A mysterious, androgynous figure surrounded by swirling mist and abstract symbols, capturing the ineffable nature of the unknown and the infinite possibilities of existence.\n",
      "\n",
      "Image request submitted. ID: fd292636-00cc-43bf-9cea-10ef176b1ac0\n",
      "Waiting for 5 seconds to allow image generation...\n",
      "Image URL retrieved: https://delivery-eu1.bfl.ai/results/8e29108b60164f73a3bad2eceda121b2/sample.jpeg?se=2025-03-26T21%3A49%3A56Z&sp=r&sv=2024-11-04&sr=b&rsct=image/jpeg&sig=aZ0OFtgemDAziqnlCTEYzaHeXwac00TJOMLIw6gw5%2BM%3D\n",
      "Image downloaded and saved as Images/Eternal Enigma.jpeg\n",
      "\n",
      "----------------------------------------------------\n",
      "\n"
     ]
    }
   ],
   "source": [
    "import os\n",
    "import requests\n",
    "# from io import BytesIO\n",
    "# from PIL import Image\n",
    "import time\n",
    "\n",
    "# Replace with your actual API key\n",
    "API_KEY = os.environ.get(\"API_KEY\")\n",
    "\n",
    "# Ensure the Images directory exists\n",
    "images_dir = \"Images\"\n",
    "if not os.path.exists(images_dir):\n",
    "    os.makedirs(images_dir)\n",
    "\n",
    "\n",
    "def post_request_flux(prompt_description):\n",
    "    # POST request details\n",
    "    post_url = \"https://api.bfl.ml/v1/flux-pro-1.1\"\n",
    "    headers = {\n",
    "        \"Content-Type\": \"application/json\",\n",
    "        \"x-key\": API_KEY\n",
    "    }\n",
    "    payload = {\n",
    "        \"prompt\": prompt_description\n",
    "    }\n",
    "\n",
    "    # Send the POST request to generate the image\n",
    "    post_response = requests.post(post_url, headers=headers, json=payload)\n",
    "    if post_response.status_code == 200:\n",
    "        post_data = post_response.json()\n",
    "        # Assume the API returns an 'id' in the JSON response\n",
    "        image_id = post_data.get('id')\n",
    "        if not image_id:\n",
    "            print(\"No image ID found in the response.\")\n",
    "            exit(1)\n",
    "        print(f\"Image request submitted. ID: {image_id}\")\n",
    "    else:\n",
    "        print(f\"Error in POST request: {post_response.status_code}\\n{post_response.text}\")\n",
    "        exit(1)\n",
    "    return image_id\n",
    "\n",
    "def get_request(image_id):\n",
    "    # Construct the GET URL using the returned image ID\n",
    "    get_url = f\"https://api.bfl.ml/v1/get_result?id={image_id}\"\n",
    "\n",
    "    # Send the GET request to retrieve the image result JSON\n",
    "    result_response = requests.get(get_url, headers=headers)\n",
    "    if result_response.status_code == 200:\n",
    "        result_data = result_response.json()\n",
    "        # Extract the URL of the image from the 'sample' field inside 'result'\n",
    "        image_url = result_data.get(\"result\", {}).get(\"sample\")\n",
    "        if not image_url:\n",
    "            print(\"Image URL not found in the response.\")\n",
    "            exit(1)\n",
    "        print(f\"Image URL retrieved: {image_url}\")\n",
    "    else:\n",
    "        print(f\"Error in GET request: {result_response.status_code}\\n{result_response.text}\")\n",
    "        exit(1)\n",
    "    return image_url\n",
    "\n",
    "def get_image(image_url,images_dir, prompt):\n",
    "    # Now, make a GET request to the actual image URL to download the image binary data\n",
    "    image_response = requests.get(image_url)\n",
    "    if image_response.status_code == 200:\n",
    "        image_bytes = image_response.content\n",
    "\n",
    "        # Save the image to the Images directory\n",
    "        image_name = f\"{prompt}.jpeg\"\n",
    "        output_filename = os.path.join(images_dir, image_name)\n",
    "        with open(output_filename, \"wb\") as img_file:\n",
    "            img_file.write(image_bytes)\n",
    "        print(f\"Image downloaded and saved as {output_filename}\")\n",
    "\n",
    "        # # Optionally, display the image using Pillow\n",
    "        # try:\n",
    "        #     image = Image.open(BytesIO(image_bytes))\n",
    "        #     image.show()\n",
    "        # except Exception as e:\n",
    "        #     print(\"Unable to display the image:\", e)\n",
    "    else:\n",
    "        print(f\"Error retrieving the image: {image_response.status_code}\\n{image_response.text}\")\n",
    "\n",
    "\n",
    "if __name__ == \"__main__\":\n",
    "    number_of_prompts = len(prompt_description)\n",
    "    for i in range(number_of_prompts):\n",
    "        prompt = prompt_titles[i]\n",
    "        print(f\"Prompt Title: {prompt}\")\n",
    "        print(f\"Prompt Description: {prompt_description[i]}\")\n",
    "        print(\"\")\n",
    "        image_id = post_request_flux(prompt_description[i])\n",
    "        # Wait 5 seconds for the image to be generated\n",
    "        print(\"Waiting for 5 seconds to allow image generation...\")\n",
    "        time.sleep(5)\n",
    "        image_url = get_request(image_id)\n",
    "        get_image(image_url, images_dir, prompt)\n",
    "        print(\"\")\n",
    "        print(\"----------------------------------------------------\")\n",
    "        print(\"\")"
   ]
  },
  {
   "cell_type": "code",
   "execution_count": 44,
   "metadata": {},
   "outputs": [],
   "source": [
    "import os\n",
    "from PIL import Image\n",
    "\n",
    "# Folder containing PNG images\n",
    "input_folder = \"Images\"\n",
    "output_folder = \"Converted_Images\"\n",
    "\n",
    "def convert_png_to_jpeg(input_folder, output_folder):\n",
    "    # Ensure the output folder exists\n",
    "    if not os.path.exists(output_folder):\n",
    "        os.makedirs(output_folder)\n",
    "\n",
    "    # Loop through all PNG files in the input folder\n",
    "    for filename in os.listdir(input_folder):\n",
    "        if filename.endswith(\".png\"):\n",
    "            # Open the image\n",
    "            img_path = os.path.join(input_folder, filename)\n",
    "            img = Image.open(img_path).convert(\"RGB\")  # Convert to RGB to remove alpha channel\n",
    "            \n",
    "            # Save as JPEG\n",
    "            new_filename = os.path.splitext(filename)[0] + \".jpeg\"  # Change extension\n",
    "            output_path = os.path.join(output_folder, new_filename)\n",
    "            img.save(output_path, \"JPEG\", quality=95)  # Save with high quality\n",
    "\n",
    "            print(f\"Converted {filename} -> {new_filename}\")\n",
    "\n",
    "    print(\"Conversion complete!\")\n"
   ]
  },
  {
   "cell_type": "code",
   "execution_count": null,
   "metadata": {},
   "outputs": [],
   "source": []
  }
 ],
 "metadata": {
  "kernelspec": {
   "display_name": ".venv",
   "language": "python",
   "name": "python3"
  },
  "language_info": {
   "codemirror_mode": {
    "name": "ipython",
    "version": 3
   },
   "file_extension": ".py",
   "mimetype": "text/x-python",
   "name": "python",
   "nbconvert_exporter": "python",
   "pygments_lexer": "ipython3",
   "version": "3.13.2"
  }
 },
 "nbformat": 4,
 "nbformat_minor": 2
}
