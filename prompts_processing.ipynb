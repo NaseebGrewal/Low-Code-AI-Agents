{
 "cells": [
  {
   "cell_type": "code",
   "execution_count": 1,
   "metadata": {},
   "outputs": [],
   "source": [
    "prompts = \"\"\"Digital Breakdown: An abstract, high-energy composition where pixelated distortions and erratic color bursts form a chaotic yet mesmerizing digital tapestry.\n",
    "\n",
    "Fragmented Reality: A hyper-detailed image of a futuristic cityscape with deliberate pixel glitches, shifting data streams, and broken digital interfaces merging with urban elements.\n",
    "\n",
    "Code Collapse: A close-up portrait of a cyber face slowly disintegrating into cascading streams of binary code and digital artifacts, exuding raw digital decay.\n",
    "\n",
    "Virtual Dystopia: A digital landscape where elements of reality shatter into glitch fragments, revealing hidden layers of vibrant, distorted digital textures.\n",
    "\n",
    "Cyber Glitch Garden: A surreal garden scene where organic forms and technological glitches merge, with vibrant pixelated flowers and neon static overlays.\n",
    "\n",
    "Data Mirage: An abstract interpretation of a digital mirage, where realistic imagery fractures into colorful, error-like patterns that disrupt the scene.\n",
    "\n",
    "Glitched Horizon: A futuristic horizon line abruptly interrupted by digital static, shifting colors, and fragmented visual glitches that distort the natural sky.\n",
    "\n",
    "Pixelated Identity: A hyper-realistic portrait that intentionally glitches mid-face, revealing a mesmerizing array of digital codes and fragmented details.\n",
    "\n",
    "Surveillance Distortion: A city scene captured through a malfunctioning security camera, where glitches and data artifacts distort familiar urban elements.\n",
    "\n",
    "Digital Dervish: A swirling vortex of digital artifacts, where reality and data collide in a mesmerizing display of glitch art, dynamic motion, and disruptive energy.\"\"\""
   ]
  },
  {
   "cell_type": "code",
   "execution_count": 2,
   "metadata": {},
   "outputs": [
    {
     "data": {
      "text/plain": [
       "['Digital Breakdown: An abstract, high-energy composition where pixelated distortions and erratic color bursts form a chaotic yet mesmerizing digital tapestry.',\n",
       " 'Fragmented Reality: A hyper-detailed image of a futuristic cityscape with deliberate pixel glitches, shifting data streams, and broken digital interfaces merging with urban elements.',\n",
       " 'Code Collapse: A close-up portrait of a cyber face slowly disintegrating into cascading streams of binary code and digital artifacts, exuding raw digital decay.',\n",
       " 'Virtual Dystopia: A digital landscape where elements of reality shatter into glitch fragments, revealing hidden layers of vibrant, distorted digital textures.',\n",
       " 'Cyber Glitch Garden: A surreal garden scene where organic forms and technological glitches merge, with vibrant pixelated flowers and neon static overlays.',\n",
       " 'Data Mirage: An abstract interpretation of a digital mirage, where realistic imagery fractures into colorful, error-like patterns that disrupt the scene.',\n",
       " 'Glitched Horizon: A futuristic horizon line abruptly interrupted by digital static, shifting colors, and fragmented visual glitches that distort the natural sky.',\n",
       " 'Pixelated Identity: A hyper-realistic portrait that intentionally glitches mid-face, revealing a mesmerizing array of digital codes and fragmented details.',\n",
       " 'Surveillance Distortion: A city scene captured through a malfunctioning security camera, where glitches and data artifacts distort familiar urban elements.',\n",
       " 'Digital Dervish: A swirling vortex of digital artifacts, where reality and data collide in a mesmerizing display of glitch art, dynamic motion, and disruptive energy.']"
      ]
     },
     "execution_count": 2,
     "metadata": {},
     "output_type": "execute_result"
    }
   ],
   "source": [
    "image_prompts= prompts.split(\"\\n\\n\")\n",
    "image_prompts"
   ]
  },
  {
   "cell_type": "code",
   "execution_count": 3,
   "metadata": {},
   "outputs": [
    {
     "data": {
      "text/plain": [
       "10"
      ]
     },
     "execution_count": 3,
     "metadata": {},
     "output_type": "execute_result"
    }
   ],
   "source": [
    "len(image_prompts)"
   ]
  },
  {
   "cell_type": "code",
   "execution_count": 4,
   "metadata": {},
   "outputs": [],
   "source": [
    "prompt_titles = []\n",
    "prompt_descriptions = []\n",
    "for prompt in image_prompts:\n",
    "    prompt = prompt.split(\":\")\n",
    "    prompt_titles.append(prompt[0])\n",
    "    prompt_descriptions.append(prompt[1].strip())\n"
   ]
  },
  {
   "cell_type": "code",
   "execution_count": 5,
   "metadata": {},
   "outputs": [
    {
     "data": {
      "text/plain": [
       "['Digital Breakdown',\n",
       " 'Fragmented Reality',\n",
       " 'Code Collapse',\n",
       " 'Virtual Dystopia',\n",
       " 'Cyber Glitch Garden',\n",
       " 'Data Mirage',\n",
       " 'Glitched Horizon',\n",
       " 'Pixelated Identity',\n",
       " 'Surveillance Distortion',\n",
       " 'Digital Dervish']"
      ]
     },
     "execution_count": 5,
     "metadata": {},
     "output_type": "execute_result"
    }
   ],
   "source": [
    "prompt_titles"
   ]
  },
  {
   "cell_type": "code",
   "execution_count": 6,
   "metadata": {},
   "outputs": [
    {
     "data": {
      "text/plain": [
       "['An abstract, high-energy composition where pixelated distortions and erratic color bursts form a chaotic yet mesmerizing digital tapestry.',\n",
       " 'A hyper-detailed image of a futuristic cityscape with deliberate pixel glitches, shifting data streams, and broken digital interfaces merging with urban elements.',\n",
       " 'A close-up portrait of a cyber face slowly disintegrating into cascading streams of binary code and digital artifacts, exuding raw digital decay.',\n",
       " 'A digital landscape where elements of reality shatter into glitch fragments, revealing hidden layers of vibrant, distorted digital textures.',\n",
       " 'A surreal garden scene where organic forms and technological glitches merge, with vibrant pixelated flowers and neon static overlays.',\n",
       " 'An abstract interpretation of a digital mirage, where realistic imagery fractures into colorful, error-like patterns that disrupt the scene.',\n",
       " 'A futuristic horizon line abruptly interrupted by digital static, shifting colors, and fragmented visual glitches that distort the natural sky.',\n",
       " 'A hyper-realistic portrait that intentionally glitches mid-face, revealing a mesmerizing array of digital codes and fragmented details.',\n",
       " 'A city scene captured through a malfunctioning security camera, where glitches and data artifacts distort familiar urban elements.',\n",
       " 'A swirling vortex of digital artifacts, where reality and data collide in a mesmerizing display of glitch art, dynamic motion, and disruptive energy.']"
      ]
     },
     "execution_count": 6,
     "metadata": {},
     "output_type": "execute_result"
    }
   ],
   "source": [
    "prompt_descriptions"
   ]
  },
  {
   "cell_type": "code",
   "execution_count": null,
   "metadata": {},
   "outputs": [],
   "source": []
  }
 ],
 "metadata": {
  "kernelspec": {
   "display_name": ".venv313",
   "language": "python",
   "name": "python3"
  },
  "language_info": {
   "codemirror_mode": {
    "name": "ipython",
    "version": 3
   },
   "file_extension": ".py",
   "mimetype": "text/x-python",
   "name": "python",
   "nbconvert_exporter": "python",
   "pygments_lexer": "ipython3",
   "version": "3.13.0"
  }
 },
 "nbformat": 4,
 "nbformat_minor": 2
}
