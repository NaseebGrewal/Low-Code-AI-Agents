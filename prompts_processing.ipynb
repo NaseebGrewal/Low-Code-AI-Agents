{
 "cells": [
  {
   "cell_type": "code",
   "execution_count": 43,
   "metadata": {},
   "outputs": [],
   "source": [
    "prompts = \"\"\"Embodiment of Time: A surreal figure dissolving into a cascade of clock fragments and swirling cosmic dust, personifying time as both fluid and eternal.\n",
    "\n",
    "Visions of Chaos: A dynamic, abstract entity composed of intertwined, explosive colors and shapes that embody the essence of chaos, swirling with raw energy and movement.\n",
    "\n",
    "Harmony Incarnate: A graceful figure radiating balance, where opposing elements—fire and water, light and shadow—merge seamlessly into a visually arresting portrait of unity.\n",
    "\n",
    "Whispers of Memory: A delicate, ephemeral form shrouded in translucent veils of past moments, with scattered fragments of faces and places fading into the background of a dreamlike setting.\n",
    "\n",
    "The Weight of Sorrow: An abstract, melancholic figure made of dark, flowing ink and shadowy tendrils, exuding a deep, resonant aura of timeless grief and reflection.\n",
    "\n",
    "Euphoria Embodied: A burst of radiant color and form, an abstract personification of joy that explodes in a spectrum of vibrant hues and dynamic, swirling patterns.\n",
    "\n",
    "The Dance of Fate: A mesmerizing figure whose form constantly shifts and evolves, interlacing threads of fate into a visual tapestry that hints at the mysterious interplay of destiny.\n",
    "\n",
    "Essence of Innovation: A futuristic, abstract persona forged from interlocking digital motifs and fluid, neon lines, symbolizing the relentless pursuit of progress and creativity.\n",
    "\n",
    "Spirit of Rebellion: A fierce, dynamic entity bursting with electric energy, merging fragmented, rebellious symbols with an aura of unapologetic defiance and transformation.\n",
    "\n",
    "Eternal Enigma: A mysterious, androgynous figure surrounded by swirling mist and abstract symbols, capturing the ineffable nature of the unknown and the infinite possibilities of existence.\"\"\""
   ]
  },
  {
   "cell_type": "code",
   "execution_count": 44,
   "metadata": {},
   "outputs": [
    {
     "data": {
      "text/plain": [
       "['Embodiment of Time: A surreal figure dissolving into a cascade of clock fragments and swirling cosmic dust, personifying time as both fluid and eternal.',\n",
       " 'Visions of Chaos: A dynamic, abstract entity composed of intertwined, explosive colors and shapes that embody the essence of chaos, swirling with raw energy and movement.',\n",
       " 'Harmony Incarnate: A graceful figure radiating balance, where opposing elements—fire and water, light and shadow—merge seamlessly into a visually arresting portrait of unity.',\n",
       " 'Whispers of Memory: A delicate, ephemeral form shrouded in translucent veils of past moments, with scattered fragments of faces and places fading into the background of a dreamlike setting.',\n",
       " 'The Weight of Sorrow: An abstract, melancholic figure made of dark, flowing ink and shadowy tendrils, exuding a deep, resonant aura of timeless grief and reflection.',\n",
       " 'Euphoria Embodied: A burst of radiant color and form, an abstract personification of joy that explodes in a spectrum of vibrant hues and dynamic, swirling patterns.',\n",
       " 'The Dance of Fate: A mesmerizing figure whose form constantly shifts and evolves, interlacing threads of fate into a visual tapestry that hints at the mysterious interplay of destiny.',\n",
       " 'Essence of Innovation: A futuristic, abstract persona forged from interlocking digital motifs and fluid, neon lines, symbolizing the relentless pursuit of progress and creativity.',\n",
       " 'Spirit of Rebellion: A fierce, dynamic entity bursting with electric energy, merging fragmented, rebellious symbols with an aura of unapologetic defiance and transformation.',\n",
       " 'Eternal Enigma: A mysterious, androgynous figure surrounded by swirling mist and abstract symbols, capturing the ineffable nature of the unknown and the infinite possibilities of existence.']"
      ]
     },
     "execution_count": 44,
     "metadata": {},
     "output_type": "execute_result"
    }
   ],
   "source": [
    "image_prompts= prompts.split(\"\\n\\n\")\n",
    "image_prompts"
   ]
  },
  {
   "cell_type": "code",
   "execution_count": 45,
   "metadata": {},
   "outputs": [
    {
     "data": {
      "text/plain": [
       "10"
      ]
     },
     "execution_count": 45,
     "metadata": {},
     "output_type": "execute_result"
    }
   ],
   "source": [
    "len(image_prompts)"
   ]
  },
  {
   "cell_type": "code",
   "execution_count": 46,
   "metadata": {},
   "outputs": [],
   "source": [
    "prompt_titles = []\n",
    "prompt_descriptions = []\n",
    "for prompt in image_prompts:\n",
    "    prompt = prompt.split(\":\")\n",
    "    prompt_titles.append(prompt[0])\n",
    "    prompt_descriptions.append(prompt[1].strip())\n"
   ]
  },
  {
   "cell_type": "code",
   "execution_count": 47,
   "metadata": {},
   "outputs": [
    {
     "data": {
      "text/plain": [
       "['Embodiment of Time',\n",
       " 'Visions of Chaos',\n",
       " 'Harmony Incarnate',\n",
       " 'Whispers of Memory',\n",
       " 'The Weight of Sorrow',\n",
       " 'Euphoria Embodied',\n",
       " 'The Dance of Fate',\n",
       " 'Essence of Innovation',\n",
       " 'Spirit of Rebellion',\n",
       " 'Eternal Enigma']"
      ]
     },
     "execution_count": 47,
     "metadata": {},
     "output_type": "execute_result"
    }
   ],
   "source": [
    "prompt_titles"
   ]
  },
  {
   "cell_type": "code",
   "execution_count": 48,
   "metadata": {},
   "outputs": [
    {
     "data": {
      "text/plain": [
       "['A surreal figure dissolving into a cascade of clock fragments and swirling cosmic dust, personifying time as both fluid and eternal.',\n",
       " 'A dynamic, abstract entity composed of intertwined, explosive colors and shapes that embody the essence of chaos, swirling with raw energy and movement.',\n",
       " 'A graceful figure radiating balance, where opposing elements—fire and water, light and shadow—merge seamlessly into a visually arresting portrait of unity.',\n",
       " 'A delicate, ephemeral form shrouded in translucent veils of past moments, with scattered fragments of faces and places fading into the background of a dreamlike setting.',\n",
       " 'An abstract, melancholic figure made of dark, flowing ink and shadowy tendrils, exuding a deep, resonant aura of timeless grief and reflection.',\n",
       " 'A burst of radiant color and form, an abstract personification of joy that explodes in a spectrum of vibrant hues and dynamic, swirling patterns.',\n",
       " 'A mesmerizing figure whose form constantly shifts and evolves, interlacing threads of fate into a visual tapestry that hints at the mysterious interplay of destiny.',\n",
       " 'A futuristic, abstract persona forged from interlocking digital motifs and fluid, neon lines, symbolizing the relentless pursuit of progress and creativity.',\n",
       " 'A fierce, dynamic entity bursting with electric energy, merging fragmented, rebellious symbols with an aura of unapologetic defiance and transformation.',\n",
       " 'A mysterious, androgynous figure surrounded by swirling mist and abstract symbols, capturing the ineffable nature of the unknown and the infinite possibilities of existence.']"
      ]
     },
     "execution_count": 48,
     "metadata": {},
     "output_type": "execute_result"
    }
   ],
   "source": [
    "prompt_descriptions"
   ]
  },
  {
   "cell_type": "code",
   "execution_count": null,
   "metadata": {},
   "outputs": [],
   "source": []
  }
 ],
 "metadata": {
  "kernelspec": {
   "display_name": ".venv",
   "language": "python",
   "name": "python3"
  },
  "language_info": {
   "codemirror_mode": {
    "name": "ipython",
    "version": 3
   },
   "file_extension": ".py",
   "mimetype": "text/x-python",
   "name": "python",
   "nbconvert_exporter": "python",
   "pygments_lexer": "ipython3",
   "version": "3.13.2"
  }
 },
 "nbformat": 4,
 "nbformat_minor": 2
}
