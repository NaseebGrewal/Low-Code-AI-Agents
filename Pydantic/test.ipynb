{
 "cells": [
  {
   "cell_type": "markdown",
   "metadata": {},
   "source": [
    "## 1. Basic Model Creation and Automatic Data Conversion\n",
    "### Pydantic’s BaseModel makes it simple to define data models that automatically convert and validate types."
   ]
  },
  {
   "cell_type": "code",
   "execution_count": 20,
   "metadata": {},
   "outputs": [],
   "source": [
    "# %pip install -r requirements.txt"
   ]
  },
  {
   "cell_type": "code",
   "execution_count": 2,
   "metadata": {},
   "outputs": [
    {
     "name": "stdout",
     "output_type": "stream",
     "text": [
      "id=123 name='John Doe' signup_ts=datetime.datetime(2020, 7, 25, 12, 22) friends=[1, 2, 3]\n"
     ]
    }
   ],
   "source": [
    "from pydantic import BaseModel\n",
    "from datetime import datetime\n",
    "from typing import List, Optional\n",
    "\n",
    "class User(BaseModel):\n",
    "    id: int\n",
    "    name: str\n",
    "    signup_ts: Optional[datetime] = None\n",
    "    friends: List[int] = []\n",
    "\n",
    "# Create a user instance; note that the datetime string is automatically parsed.\n",
    "user = User(id=123, name=\"John Doe\", signup_ts=\"2020-07-25 12:22\", friends=[1, 2, 3])\n",
    "print(user)"
   ]
  },
  {
   "cell_type": "markdown",
   "metadata": {},
   "source": [
    "### Key Points:\n",
    "\n",
    "### Type conversion: Pydantic converts compatible types automatically (e.g., string to datetime).\n",
    "### Default values: Optional fields and default values work as expected.\n",
    "\n"
   ]
  },
  {
   "cell_type": "markdown",
   "metadata": {},
   "source": [
    "## 2. Handling Validation Errors\n",
    "### When the data doesn’t match the specified types, Pydantic raises a ValidationError. You can catch and inspect these errors."
   ]
  },
  {
   "cell_type": "code",
   "execution_count": 3,
   "metadata": {},
   "outputs": [
    {
     "name": "stdout",
     "output_type": "stream",
     "text": [
      "[{\"type\":\"int_parsing\",\"loc\":[\"id\"],\"msg\":\"Input should be a valid integer, unable to parse string as an integer\",\"input\":\"not_an_int\",\"url\":\"https://errors.pydantic.dev/2.11/v/int_parsing\"}]\n"
     ]
    }
   ],
   "source": [
    "from pydantic import ValidationError\n",
    "\n",
    "try:\n",
    "    # Intentionally passing a wrong type for id\n",
    "    User(id=\"not_an_int\", name=\"Jane\")\n",
    "except ValidationError as e:\n",
    "    print(e.json())\n",
    "# Output the error in a readable format"
   ]
  },
  {
   "cell_type": "markdown",
   "metadata": {},
   "source": [
    "### Key Points:\n",
    "\n",
    "### Error reporting: Pydantic provides detailed JSON error messages showing which field failed validation."
   ]
  },
  {
   "cell_type": "markdown",
   "metadata": {},
   "source": [
    "## 3. Nested Models\n",
    "### Models can be nested inside one another. Pydantic handles conversion and validation recursively."
   ]
  },
  {
   "cell_type": "code",
   "execution_count": 4,
   "metadata": {},
   "outputs": [
    {
     "name": "stdout",
     "output_type": "stream",
     "text": [
      "name='Alice' address=Address(street='Main', city='Wonderland')\n"
     ]
    }
   ],
   "source": [
    "class Address(BaseModel):\n",
    "    street: str\n",
    "    city: str\n",
    "\n",
    "class UserWithAddress(BaseModel):\n",
    "    name: str\n",
    "    address: Address\n",
    "\n",
    "# Providing a dict for the nested Address; it gets converted automatically.\n",
    "user = UserWithAddress(name=\"Alice\", address={\"street\": \"Main\", \"city\": \"Wonderland\"})\n",
    "print(user)\n",
    "# Accessing nested attributes"
   ]
  },
  {
   "cell_type": "markdown",
   "metadata": {},
   "source": [
    "### Key Points:\n",
    "\n",
    "### Deep validation: Nested dictionaries are converted to their respective Pydantic model types."
   ]
  },
  {
   "cell_type": "markdown",
   "metadata": {},
   "source": [
    "## 4. Custom Field Validation Using Validators\n",
    "### You can add custom validation logic to any field using the @validator decorator."
   ]
  },
  {
   "cell_type": "code",
   "execution_count": 5,
   "metadata": {},
   "outputs": [
    {
     "name": "stdout",
     "output_type": "stream",
     "text": [
      "username='alice' email='alice@example.com'\n",
      "1 validation error for UserWithEmail\n",
      "email\n",
      "  Value error, must contain an @ symbol [type=value_error, input_value='bobexample.com', input_type=str]\n",
      "    For further information visit https://errors.pydantic.dev/2.11/v/value_error\n"
     ]
    },
    {
     "name": "stderr",
     "output_type": "stream",
     "text": [
      "/var/folders/t2/55vgl7rd2pd84zg2rhmyz6ww0000gn/T/ipykernel_3844/4281625855.py:7: PydanticDeprecatedSince20: Pydantic V1 style `@validator` validators are deprecated. You should migrate to Pydantic V2 style `@field_validator` validators, see the migration guide for more details. Deprecated in Pydantic V2.0 to be removed in V3.0. See Pydantic V2 Migration Guide at https://errors.pydantic.dev/2.11/migration/\n",
      "  @validator('email')\n"
     ]
    }
   ],
   "source": [
    "from pydantic import validator\n",
    "\n",
    "class UserWithEmail(BaseModel):\n",
    "    username: str\n",
    "    email: str\n",
    "\n",
    "    @validator('email')\n",
    "    def email_must_contain_at_symbol(cls, v):\n",
    "        if '@' not in v:\n",
    "            raise ValueError('must contain an @ symbol')\n",
    "        return v\n",
    "\n",
    "# Valid case:\n",
    "user = UserWithEmail(username=\"alice\", email=\"alice@example.com\")\n",
    "print(user)\n",
    "\n",
    "# Invalid case will raise an error:\n",
    "try:\n",
    "    UserWithEmail(username=\"bob\", email=\"bobexample.com\")\n",
    "except ValidationError as e:\n",
    "    print(e)\n",
    "# Output the error in a readable format\n",
    "# Custom error message"
   ]
  },
  {
   "cell_type": "markdown",
   "metadata": {},
   "source": [
    "### Key Points:\n",
    "\n",
    "### Field-specific logic: Use @validator to enforce additional rules beyond type checking."
   ]
  },
  {
   "cell_type": "markdown",
   "metadata": {},
   "source": [
    "## 5. Root Validators for Inter-field Validation\n",
    "### When validation logic depends on multiple fields, use a root_validator."
   ]
  },
  {
   "cell_type": "code",
   "execution_count": 13,
   "metadata": {},
   "outputs": [
    {
     "name": "stdout",
     "output_type": "stream",
     "text": [
      "password='secret123' confirm_password='secret123'\n",
      "1 validation error for UserWithPassword\n",
      "  Value error, passwords do not match [type=value_error, input_value={'password': 'secret123',..._password': 'different'}, input_type=dict]\n",
      "    For further information visit https://errors.pydantic.dev/2.11/v/value_error\n"
     ]
    }
   ],
   "source": [
    "from pydantic import BaseModel, ValidationError, model_validator\n",
    "\n",
    "class UserWithPassword(BaseModel):\n",
    "    password: str\n",
    "    confirm_password: str\n",
    "\n",
    "    @model_validator(mode=\"after\")\n",
    "    def check_passwords_match(cls, model: \"UserWithPassword\") -> \"UserWithPassword\":\n",
    "        if model.password != model.confirm_password:\n",
    "            raise ValueError(\"passwords do not match\")\n",
    "        return model\n",
    "\n",
    "# Correct usage:\n",
    "user = UserWithPassword(password=\"secret123\", confirm_password=\"secret123\")\n",
    "print(user)\n",
    "\n",
    "# Incorrect usage: output the error in a readable format\n",
    "try:\n",
    "    UserWithPassword(password=\"secret123\", confirm_password=\"different\")\n",
    "except ValidationError as e:\n",
    "    print(e)\n"
   ]
  },
  {
   "cell_type": "markdown",
   "metadata": {},
   "source": [
    "### Key Points:\n",
    "\n",
    "### Cross-field validation: root_validator checks multiple fields together, making sure the combined state is valid."
   ]
  },
  {
   "cell_type": "markdown",
   "metadata": {},
   "source": [
    "## 6. Parsing Data from Different Sources\n",
    "### Pydantic provides utility methods to parse data from various formats."
   ]
  },
  {
   "cell_type": "code",
   "execution_count": 8,
   "metadata": {},
   "outputs": [
    {
     "name": "stdout",
     "output_type": "stream",
     "text": [
      "username='alice' email='alice@example.com'\n",
      "{\"username\":\"alice\",\"email\":\"alice@example.com\"}\n"
     ]
    },
    {
     "name": "stderr",
     "output_type": "stream",
     "text": [
      "/var/folders/t2/55vgl7rd2pd84zg2rhmyz6ww0000gn/T/ipykernel_3844/1387851750.py:2: PydanticDeprecatedSince20: The `parse_obj` method is deprecated; use `model_validate` instead. Deprecated in Pydantic V2.0 to be removed in V3.0. See Pydantic V2 Migration Guide at https://errors.pydantic.dev/2.11/migration/\n",
      "  user_obj = UserWithEmail.parse_obj({\"username\": \"alice\", \"email\": \"alice@example.com\"})\n",
      "/var/folders/t2/55vgl7rd2pd84zg2rhmyz6ww0000gn/T/ipykernel_3844/1387851750.py:6: PydanticDeprecatedSince20: The `json` method is deprecated; use `model_dump_json` instead. Deprecated in Pydantic V2.0 to be removed in V3.0. See Pydantic V2 Migration Guide at https://errors.pydantic.dev/2.11/migration/\n",
      "  user_json = user_obj.json()\n"
     ]
    }
   ],
   "source": [
    "# Parsing from a Python dict:\n",
    "user_obj = UserWithEmail.parse_obj({\"username\": \"alice\", \"email\": \"alice@example.com\"})\n",
    "print(user_obj)\n",
    "\n",
    "# Converting a model to JSON:\n",
    "user_json = user_obj.json()\n",
    "print(user_json)\n"
   ]
  },
  {
   "cell_type": "markdown",
   "metadata": {},
   "source": [
    "### Key Points:\n",
    "\n",
    "### Flexibility: Easily convert between dicts, JSON strings, and Pydantic models."
   ]
  },
  {
   "cell_type": "markdown",
   "metadata": {},
   "source": [
    "## 7. Settings Management with BaseSettings\n",
    "### For managing configurations, Pydantic’s BaseSettings allows you to load values from environment variables and .env files."
   ]
  },
  {
   "cell_type": "code",
   "execution_count": 24,
   "metadata": {},
   "outputs": [
    {
     "name": "stdout",
     "output_type": "stream",
     "text": [
      "{'app_name': 'Demonstration', 'admin_email': 'admin@example.com'}\n"
     ]
    },
    {
     "name": "stderr",
     "output_type": "stream",
     "text": [
      "/var/folders/t2/55vgl7rd2pd84zg2rhmyz6ww0000gn/T/ipykernel_3844/2920283302.py:12: PydanticDeprecatedSince20: The `dict` method is deprecated; use `model_dump` instead. Deprecated in Pydantic V2.0 to be removed in V3.0. See Pydantic V2 Migration Guide at https://errors.pydantic.dev/2.11/migration/\n",
      "  print(settings.dict())\n"
     ]
    }
   ],
   "source": [
    "from pydantic_settings import BaseSettings\n",
    "\n",
    "class Settings(BaseSettings):\n",
    "    app_name: str\n",
    "    admin_email: str\n",
    "\n",
    "    class Config:\n",
    "        env_file = \".env\"\n",
    "\n",
    "# Create settings instance; values are taken from environment or the .env file.\n",
    "settings = Settings()\n",
    "print(settings.dict())"
   ]
  },
  {
   "cell_type": "markdown",
   "metadata": {},
   "source": [
    "## Key Points:\n",
    "\n",
    "### Configuration management: Load and validate environment configurations seamlessly with type safety."
   ]
  }
 ],
 "metadata": {
  "kernelspec": {
   "display_name": ".venv",
   "language": "python",
   "name": "python3"
  },
  "language_info": {
   "codemirror_mode": {
    "name": "ipython",
    "version": 3
   },
   "file_extension": ".py",
   "mimetype": "text/x-python",
   "name": "python",
   "nbconvert_exporter": "python",
   "pygments_lexer": "ipython3",
   "version": "3.13.2"
  }
 },
 "nbformat": 4,
 "nbformat_minor": 2
}
