{
 "cells": [
  {
   "cell_type": "code",
   "execution_count": null,
   "metadata": {},
   "outputs": [],
   "source": [
    "%pip install crewai"
   ]
  },
  {
   "cell_type": "code",
   "execution_count": null,
   "metadata": {},
   "outputs": [],
   "source": [
    "%pip freeze"
   ]
  },
  {
   "cell_type": "code",
   "execution_count": null,
   "metadata": {},
   "outputs": [],
   "source": [
    "import crewai"
   ]
  },
  {
   "cell_type": "code",
   "execution_count": null,
   "metadata": {},
   "outputs": [],
   "source": [
    "from crewai import Agent, Crew, Process, Task\n",
    "\n",
    "from dotenv import load_dotenv\n",
    "\n",
    "# Load environment variables from .env file\n",
    "\n",
    "load_dotenv()\n",
    "\n",
    "# Enable debug logging for LLM calls\n",
    "\n",
    "import litellm\n",
    "\n",
    "litellm._turn_on_debug()\n",
    "\n",
    "blog_outline_generator = Agent(\n",
    "\n",
    "    role=\"Blog Outline Generator\",\n",
    "\n",
    "    goal=\"Given a title: {blog_title}, generate a short blog outline which is only 100 words and only 5 subheadings which will be used to write a blog post with 2000 words\",\n",
    "\n",
    "    backstory=\"You are a blog outline generator\"\n",
    "\n",
    ")\n",
    "\n",
    "generate_blog_outline_task = Task(\n",
    "\n",
    "    description=\"Given a title: {blog_title}, generate a short blog outline which is only 100 words and only 5 subheadings which will be used to write a blog post with 2000 words\",\n",
    "\n",
    "    expected_output=\"A blog outline\",\n",
    "\n",
    "    agent=blog_outline_generator,\n",
    "\n",
    ")\n",
    "\n",
    "blog_writer = Agent(\n",
    "\n",
    "    role=\"Blog Writer\",\n",
    "\n",
    "    goal=\"Given a blog outline for the title: {blog_title}, write a blog post with 2000 words\",\n",
    "\n",
    "    backstory=\"You are a blog writer\"\n",
    "\n",
    ")   \n",
    "\n",
    "write_blog_task = Task(\n",
    "\n",
    "    description=\"Given a blog outline for the title: {blog_title}, write a blog post with 2000 words\",\n",
    "\n",
    "    expected_output=\"A blog post, make sure to include main points from blog outline which you have received in the context in the blog post as subheadings\",\n",
    "\n",
    "    agent=blog_writer,\n",
    "\n",
    "    context=[generate_blog_outline_task]\n",
    "\n",
    ")\n",
    "\n",
    "crew = Crew(\n",
    "\n",
    "    agents=[blog_outline_generator, blog_writer],\n",
    "\n",
    "    tasks=[generate_blog_outline_task, write_blog_task],\n",
    "\n",
    "    process=Process.sequential,\n",
    "\n",
    "    verbose=True\n",
    "\n",
    ")\n",
    "\n",
    "result = crew.kickoff(inputs={'blog_title': \"Violence in movies\"})\n",
    "print(result)"
   ]
  }
 ],
 "metadata": {
  "kernelspec": {
   "display_name": ".venv",
   "language": "python",
   "name": "python3"
  },
  "language_info": {
   "codemirror_mode": {
    "name": "ipython",
    "version": 3
   },
   "file_extension": ".py",
   "mimetype": "text/x-python",
   "name": "python",
   "nbconvert_exporter": "python",
   "pygments_lexer": "ipython3",
   "version": "3.13.2"
  }
 },
 "nbformat": 4,
 "nbformat_minor": 2
}
